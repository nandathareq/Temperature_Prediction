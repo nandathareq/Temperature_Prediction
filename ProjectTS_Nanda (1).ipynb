{
  "nbformat": 4,
  "nbformat_minor": 0,
  "metadata": {
    "colab": {
      "name": "ProjectTS_Nanda.ipynb",
      "provenance": [],
      "collapsed_sections": []
    },
    "kernelspec": {
      "name": "python3",
      "display_name": "Python 3"
    },
    "language_info": {
      "name": "python"
    }
  },
  "cells": [
    {
      "cell_type": "markdown",
      "source": [
        "# **Temperature Prediction**\n",
        "\n",
        "program ini berfungsi untuk memprediksi temperatur suatu daerah berdasarkan tanggal"
      ],
      "metadata": {
        "id": "THW0fhe8sVRP"
      }
    },
    {
      "cell_type": "markdown",
      "metadata": {
        "id": "s5vrJG1PpAKw"
      },
      "source": [
        "# **Get Data**"
      ]
    },
    {
      "cell_type": "markdown",
      "metadata": {
        "id": "X5nWVeIupGPv"
      },
      "source": [
        "Kode dibawah mengambil data temperatur Kota Riga tahun 2015 - 2020"
      ]
    },
    {
      "cell_type": "code",
      "metadata": {
        "colab": {
          "base_uri": "https://localhost:8080/",
          "height": 478
        },
        "id": "VNo76JR8O8Aq",
        "outputId": "b7afc657-8f65-4c6e-a842-0f924a6c74f3"
      },
      "source": [
        "import pandas as pd\n",
        "\n",
        "df = pd.read_csv('/content/drive/MyDrive/city_temperature.csv')\n",
        "df = df.loc[df[\"City\"] == \"Riga\"]\n",
        "df = df.loc[df[\"Year\"] > 2014]\n",
        "\n",
        "df"
      ],
      "execution_count": null,
      "outputs": [
        {
          "output_type": "stream",
          "text": [
            "/usr/local/lib/python3.7/dist-packages/IPython/core/interactiveshell.py:2718: DtypeWarning: Columns (2) have mixed types.Specify dtype option on import or set low_memory=False.\n",
            "  interactivity=interactivity, compiler=compiler, result=result)\n"
          ],
          "name": "stderr"
        },
        {
          "output_type": "execute_result",
          "data": {
            "text/html": [
              "<div>\n",
              "<style scoped>\n",
              "    .dataframe tbody tr th:only-of-type {\n",
              "        vertical-align: middle;\n",
              "    }\n",
              "\n",
              "    .dataframe tbody tr th {\n",
              "        vertical-align: top;\n",
              "    }\n",
              "\n",
              "    .dataframe thead th {\n",
              "        text-align: right;\n",
              "    }\n",
              "</style>\n",
              "<table border=\"1\" class=\"dataframe\">\n",
              "  <thead>\n",
              "    <tr style=\"text-align: right;\">\n",
              "      <th></th>\n",
              "      <th>Region</th>\n",
              "      <th>Country</th>\n",
              "      <th>State</th>\n",
              "      <th>City</th>\n",
              "      <th>Month</th>\n",
              "      <th>Day</th>\n",
              "      <th>Year</th>\n",
              "      <th>AvgTemperature</th>\n",
              "    </tr>\n",
              "  </thead>\n",
              "  <tbody>\n",
              "    <tr>\n",
              "      <th>820322</th>\n",
              "      <td>Europe</td>\n",
              "      <td>Latvia</td>\n",
              "      <td>NaN</td>\n",
              "      <td>Riga</td>\n",
              "      <td>1</td>\n",
              "      <td>1</td>\n",
              "      <td>2015</td>\n",
              "      <td>38.6</td>\n",
              "    </tr>\n",
              "    <tr>\n",
              "      <th>820323</th>\n",
              "      <td>Europe</td>\n",
              "      <td>Latvia</td>\n",
              "      <td>NaN</td>\n",
              "      <td>Riga</td>\n",
              "      <td>1</td>\n",
              "      <td>2</td>\n",
              "      <td>2015</td>\n",
              "      <td>40.3</td>\n",
              "    </tr>\n",
              "    <tr>\n",
              "      <th>820324</th>\n",
              "      <td>Europe</td>\n",
              "      <td>Latvia</td>\n",
              "      <td>NaN</td>\n",
              "      <td>Riga</td>\n",
              "      <td>1</td>\n",
              "      <td>3</td>\n",
              "      <td>2015</td>\n",
              "      <td>39.4</td>\n",
              "    </tr>\n",
              "    <tr>\n",
              "      <th>820325</th>\n",
              "      <td>Europe</td>\n",
              "      <td>Latvia</td>\n",
              "      <td>NaN</td>\n",
              "      <td>Riga</td>\n",
              "      <td>1</td>\n",
              "      <td>4</td>\n",
              "      <td>2015</td>\n",
              "      <td>34.9</td>\n",
              "    </tr>\n",
              "    <tr>\n",
              "      <th>820326</th>\n",
              "      <td>Europe</td>\n",
              "      <td>Latvia</td>\n",
              "      <td>NaN</td>\n",
              "      <td>Riga</td>\n",
              "      <td>1</td>\n",
              "      <td>5</td>\n",
              "      <td>2015</td>\n",
              "      <td>26.4</td>\n",
              "    </tr>\n",
              "    <tr>\n",
              "      <th>...</th>\n",
              "      <td>...</td>\n",
              "      <td>...</td>\n",
              "      <td>...</td>\n",
              "      <td>...</td>\n",
              "      <td>...</td>\n",
              "      <td>...</td>\n",
              "      <td>...</td>\n",
              "      <td>...</td>\n",
              "    </tr>\n",
              "    <tr>\n",
              "      <th>822278</th>\n",
              "      <td>Europe</td>\n",
              "      <td>Latvia</td>\n",
              "      <td>NaN</td>\n",
              "      <td>Riga</td>\n",
              "      <td>5</td>\n",
              "      <td>9</td>\n",
              "      <td>2020</td>\n",
              "      <td>50.1</td>\n",
              "    </tr>\n",
              "    <tr>\n",
              "      <th>822279</th>\n",
              "      <td>Europe</td>\n",
              "      <td>Latvia</td>\n",
              "      <td>NaN</td>\n",
              "      <td>Riga</td>\n",
              "      <td>5</td>\n",
              "      <td>10</td>\n",
              "      <td>2020</td>\n",
              "      <td>55.7</td>\n",
              "    </tr>\n",
              "    <tr>\n",
              "      <th>822280</th>\n",
              "      <td>Europe</td>\n",
              "      <td>Latvia</td>\n",
              "      <td>NaN</td>\n",
              "      <td>Riga</td>\n",
              "      <td>5</td>\n",
              "      <td>11</td>\n",
              "      <td>2020</td>\n",
              "      <td>45.3</td>\n",
              "    </tr>\n",
              "    <tr>\n",
              "      <th>822281</th>\n",
              "      <td>Europe</td>\n",
              "      <td>Latvia</td>\n",
              "      <td>NaN</td>\n",
              "      <td>Riga</td>\n",
              "      <td>5</td>\n",
              "      <td>12</td>\n",
              "      <td>2020</td>\n",
              "      <td>41.7</td>\n",
              "    </tr>\n",
              "    <tr>\n",
              "      <th>822282</th>\n",
              "      <td>Europe</td>\n",
              "      <td>Latvia</td>\n",
              "      <td>NaN</td>\n",
              "      <td>Riga</td>\n",
              "      <td>5</td>\n",
              "      <td>13</td>\n",
              "      <td>2020</td>\n",
              "      <td>36.0</td>\n",
              "    </tr>\n",
              "  </tbody>\n",
              "</table>\n",
              "<p>1961 rows × 8 columns</p>\n",
              "</div>"
            ],
            "text/plain": [
              "        Region Country State  City  Month  Day  Year  AvgTemperature\n",
              "820322  Europe  Latvia   NaN  Riga      1    1  2015            38.6\n",
              "820323  Europe  Latvia   NaN  Riga      1    2  2015            40.3\n",
              "820324  Europe  Latvia   NaN  Riga      1    3  2015            39.4\n",
              "820325  Europe  Latvia   NaN  Riga      1    4  2015            34.9\n",
              "820326  Europe  Latvia   NaN  Riga      1    5  2015            26.4\n",
              "...        ...     ...   ...   ...    ...  ...   ...             ...\n",
              "822278  Europe  Latvia   NaN  Riga      5    9  2020            50.1\n",
              "822279  Europe  Latvia   NaN  Riga      5   10  2020            55.7\n",
              "822280  Europe  Latvia   NaN  Riga      5   11  2020            45.3\n",
              "822281  Europe  Latvia   NaN  Riga      5   12  2020            41.7\n",
              "822282  Europe  Latvia   NaN  Riga      5   13  2020            36.0\n",
              "\n",
              "[1961 rows x 8 columns]"
            ]
          },
          "metadata": {
            "tags": []
          },
          "execution_count": 1
        }
      ]
    },
    {
      "cell_type": "markdown",
      "metadata": {
        "id": "2x0mIt5ctH4Q"
      },
      "source": [
        "tambah index baru"
      ]
    },
    {
      "cell_type": "code",
      "metadata": {
        "id": "yiFekH23tPS3"
      },
      "source": [
        "index = []\n",
        "for i in range(len(df['Day'])):\n",
        "    index.append(i)\n",
        "\n",
        "df_new = pd.DataFrame({'hari': index,\n",
        "                   'suhu': df['AvgTemperature']})"
      ],
      "execution_count": null,
      "outputs": []
    },
    {
      "cell_type": "markdown",
      "metadata": {
        "id": "JpUzp2aaBDAp"
      },
      "source": [
        "memisahkan data menjadi train dan validation"
      ]
    },
    {
      "cell_type": "code",
      "metadata": {
        "colab": {
          "base_uri": "https://localhost:8080/"
        },
        "id": "IvLjcRXZvaN3",
        "outputId": "8cad91e9-3f8e-4023-a49e-044fac1fec22"
      },
      "source": [
        "from sklearn.model_selection import train_test_split\n",
        "\n",
        "x_train, x_valid, y_train, y_valid = train_test_split(df_new['suhu'], \n",
        "                                                      df_new['hari'], \n",
        "                                                      test_size = 0.2, \n",
        "                                                      shuffle = False )\n",
        "print(len(x_train), len(x_valid))"
      ],
      "execution_count": null,
      "outputs": [
        {
          "output_type": "stream",
          "text": [
            "1568 393\n"
          ],
          "name": "stdout"
        }
      ]
    },
    {
      "cell_type": "markdown",
      "metadata": {
        "id": "CiTNROZqvDuP"
      },
      "source": [
        "menampilkan bentuk data"
      ]
    },
    {
      "cell_type": "code",
      "metadata": {
        "colab": {
          "base_uri": "https://localhost:8080/",
          "height": 331
        },
        "id": "r3uKHly4pfT_",
        "outputId": "4e20c131-e91f-4360-e349-5d9413cdec67"
      },
      "source": [
        "import matplotlib.pyplot as plt\n",
        "\n",
        "plt.figure(figsize=(15,5))\n",
        "plt.plot(y_train, x_train)\n",
        "plt.title('suhu rata-rata',\n",
        "          fontsize=20);"
      ],
      "execution_count": null,
      "outputs": [
        {
          "output_type": "display_data",
          "data": {
            "image/png": "[encoded data removed]",
            "text/plain": [
              "<Figure size 1080x360 with 1 Axes>"
            ]
          },
          "metadata": {
            "tags": [],
            "needs_background": "light"
          }
        }
      ]
    },
    {
      "cell_type": "markdown",
      "metadata": {
        "id": "xRA6ewuWv-Ov"
      },
      "source": [
        "# **Membuat window**"
      ]
    },
    {
      "cell_type": "code",
      "metadata": {
        "id": "07EdPP_XwM6H"
      },
      "source": [
        "\n",
        "import numpy as np\n",
        "import tensorflow as tf\n",
        "\n",
        "def windowed_dataset(series, window_size, batch_size, shuffle_buffer):\n",
        "    series = tf.expand_dims(series, axis=-1)\n",
        "    ds = tf.data.Dataset.from_tensor_slices(series)\n",
        "    ds = ds.window(window_size + 1, shift=1, drop_remainder=True)\n",
        "    ds = ds.flat_map(lambda w: w.batch(window_size + 1))\n",
        "    ds = ds.shuffle(shuffle_buffer)\n",
        "    ds = ds.map(lambda w: (w[:-1], w[-1:]))\n",
        "    return ds.batch(batch_size).prefetch(1)"
      ],
      "execution_count": null,
      "outputs": []
    },
    {
      "cell_type": "markdown",
      "metadata": {
        "id": "Px4ZRcBvCl1z"
      },
      "source": [
        "transformasi data agar dapat dimasukan ke model"
      ]
    },
    {
      "cell_type": "code",
      "metadata": {
        "id": "Un1A6pSGA6f_"
      },
      "source": [
        "train_set = windowed_dataset(x_train, window_size=64, batch_size=200, shuffle_buffer=1000)\n",
        "val_set = windowed_dataset(x_valid, window_size=64, batch_size=200, shuffle_buffer=1000)"
      ],
      "execution_count": null,
      "outputs": []
    },
    {
      "cell_type": "markdown",
      "metadata": {
        "id": "Y9QsN3e_CjrB"
      },
      "source": [
        "# **membuat model**"
      ]
    },
    {
      "cell_type": "code",
      "metadata": {
        "id": "sGJOzct7wr03"
      },
      "source": [
        "from keras.layers import Dense, LSTM\n",
        "\n",
        "model = tf.keras.models.Sequential([\n",
        "  tf.keras.layers.LSTM(60, return_sequences=True),\n",
        "  tf.keras.layers.LSTM(60),\n",
        "  tf.keras.layers.Dense(30, activation=\"relu\"),\n",
        "  tf.keras.layers.Dense(10, activation=\"relu\"),\n",
        "  tf.keras.layers.Dense(1),\n",
        "])"
      ],
      "execution_count": null,
      "outputs": []
    },
    {
      "cell_type": "markdown",
      "metadata": {
        "id": "MExi_v4ICxeS"
      },
      "source": [
        "fungsi batas nilai 10% MAE untuk callback"
      ]
    },
    {
      "cell_type": "code",
      "metadata": {
        "colab": {
          "base_uri": "https://localhost:8080/"
        },
        "id": "Ti5zbM5WCwgn",
        "outputId": "ee58e30d-15c7-4ef4-c6c6-77cd81e3bb06"
      },
      "source": [
        "Mae = (df_new['suhu'].max() - df_new['suhu'].min()) * 10/100\n",
        "print(Mae)"
      ],
      "execution_count": null,
      "outputs": [
        {
          "output_type": "stream",
          "text": [
            "17.91\n"
          ],
          "name": "stdout"
        }
      ]
    },
    {
      "cell_type": "markdown",
      "metadata": {
        "id": "Goq9KN9hDLkO"
      },
      "source": [
        "fungsi callback"
      ]
    },
    {
      "cell_type": "code",
      "metadata": {
        "id": "cNnCAM6mDN9r"
      },
      "source": [
        "class myCallback(tf.keras.callbacks.Callback):\n",
        "  def on_epoch_end(self, epoch, logs={}):\n",
        "    if(logs.get('mae')<Mae and logs.get('val_mae')<Mae):\n",
        "      print(\"\\nMAE dari model < 10% skala data\")\n",
        "      self.model.stop_training = True\n",
        "callbacks = myCallback()"
      ],
      "execution_count": null,
      "outputs": []
    },
    {
      "cell_type": "markdown",
      "metadata": {
        "id": "RZTWZRVGCivs"
      },
      "source": [
        "# **train model**"
      ]
    },
    {
      "cell_type": "code",
      "metadata": {
        "colab": {
          "base_uri": "https://localhost:8080/"
        },
        "id": "18S6JUiHxAbW",
        "outputId": "a134f0c4-bcf9-470e-d00f-5b3d8ab7fa89"
      },
      "source": [
        "optimizer = tf.keras.optimizers.SGD(lr=1.0000e-04, momentum=0.9)\n",
        "model.compile(loss=tf.keras.losses.Huber(),\n",
        "              optimizer=optimizer,\n",
        "              metrics=[\"mae\"])\n",
        "history = model.fit(train_set,\n",
        "                    epochs=100,\n",
        "                    validation_data = val_set, \n",
        "                    callbacks=[callbacks])"
      ],
      "execution_count": null,
      "outputs": [
        {
          "output_type": "stream",
          "text": [
            "Epoch 1/100\n"
          ],
          "name": "stdout"
        },
        {
          "output_type": "stream",
          "text": [
            "/usr/local/lib/python3.7/dist-packages/tensorflow/python/keras/optimizer_v2/optimizer_v2.py:375: UserWarning: The `lr` argument is deprecated, use `learning_rate` instead.\n",
            "  \"The `lr` argument is deprecated, use `learning_rate` instead.\")\n"
          ],
          "name": "stderr"
        },
        {
          "output_type": "stream",
          "text": [
            "8/8 [==============================] - 7s 399ms/step - loss: 45.8804 - mae: 46.3804 - val_loss: 46.5872 - val_mae: 47.0872\n",
            "Epoch 2/100\n",
            "8/8 [==============================] - 2s 220ms/step - loss: 45.7398 - mae: 46.2398 - val_loss: 46.3936 - val_mae: 46.8936\n",
            "Epoch 3/100\n",
            "8/8 [==============================] - 2s 222ms/step - loss: 45.5469 - mae: 46.0469 - val_loss: 46.2245 - val_mae: 46.7245\n",
            "Epoch 4/100\n",
            "8/8 [==============================] - 2s 225ms/step - loss: 45.4355 - mae: 45.9355 - val_loss: 46.1679 - val_mae: 46.6679\n",
            "Epoch 5/100\n",
            "8/8 [==============================] - 2s 216ms/step - loss: 45.3869 - mae: 45.8869 - val_loss: 46.1168 - val_mae: 46.6168\n",
            "Epoch 6/100\n",
            "8/8 [==============================] - 2s 217ms/step - loss: 45.3376 - mae: 45.8376 - val_loss: 46.0636 - val_mae: 46.5636\n",
            "Epoch 7/100\n",
            "8/8 [==============================] - 2s 217ms/step - loss: 45.2853 - mae: 45.7853 - val_loss: 46.0087 - val_mae: 46.5087\n",
            "Epoch 8/100\n",
            "8/8 [==============================] - 2s 222ms/step - loss: 45.2315 - mae: 45.7315 - val_loss: 45.9530 - val_mae: 46.4530\n",
            "Epoch 9/100\n",
            "8/8 [==============================] - 2s 221ms/step - loss: 45.1768 - mae: 45.6768 - val_loss: 45.8968 - val_mae: 46.3968\n",
            "Epoch 10/100\n",
            "8/8 [==============================] - 2s 220ms/step - loss: 45.1214 - mae: 45.6214 - val_loss: 45.8397 - val_mae: 46.3397\n",
            "Epoch 11/100\n",
            "8/8 [==============================] - 2s 214ms/step - loss: 45.0647 - mae: 45.5647 - val_loss: 45.7811 - val_mae: 46.2811\n",
            "Epoch 12/100\n",
            "8/8 [==============================] - 2s 213ms/step - loss: 45.0067 - mae: 45.5067 - val_loss: 45.7205 - val_mae: 46.2205\n",
            "Epoch 13/100\n",
            "8/8 [==============================] - 2s 229ms/step - loss: 44.9471 - mae: 45.4471 - val_loss: 45.6587 - val_mae: 46.1587\n",
            "Epoch 14/100\n",
            "8/8 [==============================] - 2s 219ms/step - loss: 44.8861 - mae: 45.3861 - val_loss: 45.5947 - val_mae: 46.0947\n",
            "Epoch 15/100\n",
            "8/8 [==============================] - 2s 221ms/step - loss: 44.8226 - mae: 45.3226 - val_loss: 45.5278 - val_mae: 46.0278\n",
            "Epoch 16/100\n",
            "8/8 [==============================] - 2s 217ms/step - loss: 44.7561 - mae: 45.2561 - val_loss: 45.4567 - val_mae: 45.9567\n",
            "Epoch 17/100\n",
            "8/8 [==============================] - 2s 218ms/step - loss: 44.6859 - mae: 45.1859 - val_loss: 45.3819 - val_mae: 45.8819\n",
            "Epoch 18/100\n",
            "8/8 [==============================] - 2s 222ms/step - loss: 44.6118 - mae: 45.1118 - val_loss: 45.3025 - val_mae: 45.8025\n",
            "Epoch 19/100\n",
            "8/8 [==============================] - 2s 221ms/step - loss: 44.5327 - mae: 45.0327 - val_loss: 45.2185 - val_mae: 45.7185\n",
            "Epoch 20/100\n",
            "8/8 [==============================] - 2s 221ms/step - loss: 44.4492 - mae: 44.9492 - val_loss: 45.1290 - val_mae: 45.6290\n",
            "Epoch 21/100\n",
            "8/8 [==============================] - 2s 219ms/step - loss: 44.3605 - mae: 44.8605 - val_loss: 45.0336 - val_mae: 45.5336\n",
            "Epoch 22/100\n",
            "8/8 [==============================] - 2s 221ms/step - loss: 44.2654 - mae: 44.7653 - val_loss: 44.9320 - val_mae: 45.4320\n",
            "Epoch 23/100\n",
            "8/8 [==============================] - 2s 228ms/step - loss: 44.1640 - mae: 44.6639 - val_loss: 44.8234 - val_mae: 45.3234\n",
            "Epoch 24/100\n",
            "8/8 [==============================] - 2s 220ms/step - loss: 44.0553 - mae: 44.5551 - val_loss: 44.7066 - val_mae: 45.2066\n",
            "Epoch 25/100\n",
            "8/8 [==============================] - 2s 214ms/step - loss: 43.9380 - mae: 44.4378 - val_loss: 44.5814 - val_mae: 45.0814\n",
            "Epoch 26/100\n",
            "8/8 [==============================] - 2s 225ms/step - loss: 43.8119 - mae: 44.3117 - val_loss: 44.4461 - val_mae: 44.9461\n",
            "Epoch 27/100\n",
            "8/8 [==============================] - 2s 221ms/step - loss: 43.6762 - mae: 44.1759 - val_loss: 44.3004 - val_mae: 44.8004\n",
            "Epoch 28/100\n",
            "8/8 [==============================] - 2s 218ms/step - loss: 43.5294 - mae: 44.0291 - val_loss: 44.1426 - val_mae: 44.6426\n",
            "Epoch 29/100\n",
            "8/8 [==============================] - 2s 222ms/step - loss: 43.3704 - mae: 43.8701 - val_loss: 43.9720 - val_mae: 44.4720\n",
            "Epoch 30/100\n",
            "8/8 [==============================] - 2s 229ms/step - loss: 43.1973 - mae: 43.6972 - val_loss: 43.7870 - val_mae: 44.2870\n",
            "Epoch 31/100\n",
            "8/8 [==============================] - 2s 221ms/step - loss: 43.0094 - mae: 43.5093 - val_loss: 43.5841 - val_mae: 44.0841\n",
            "Epoch 32/100\n",
            "8/8 [==============================] - 2s 219ms/step - loss: 42.8032 - mae: 43.3031 - val_loss: 43.3611 - val_mae: 43.8611\n",
            "Epoch 33/100\n",
            "8/8 [==============================] - 2s 215ms/step - loss: 42.5758 - mae: 43.0758 - val_loss: 43.1155 - val_mae: 43.6155\n",
            "Epoch 34/100\n",
            "8/8 [==============================] - 2s 225ms/step - loss: 42.3252 - mae: 42.8252 - val_loss: 42.8435 - val_mae: 43.3435\n",
            "Epoch 35/100\n",
            "8/8 [==============================] - 2s 225ms/step - loss: 42.0472 - mae: 42.5472 - val_loss: 42.5413 - val_mae: 43.0413\n",
            "Epoch 36/100\n",
            "8/8 [==============================] - 2s 227ms/step - loss: 41.7376 - mae: 42.2376 - val_loss: 42.2043 - val_mae: 42.7043\n",
            "Epoch 37/100\n",
            "8/8 [==============================] - 2s 236ms/step - loss: 41.3920 - mae: 41.8918 - val_loss: 41.8266 - val_mae: 42.3266\n",
            "Epoch 38/100\n",
            "8/8 [==============================] - 2s 233ms/step - loss: 41.0045 - mae: 41.5041 - val_loss: 41.4012 - val_mae: 41.9012\n",
            "Epoch 39/100\n",
            "8/8 [==============================] - 2s 231ms/step - loss: 40.5674 - mae: 41.0667 - val_loss: 40.9215 - val_mae: 41.4215\n",
            "Epoch 40/100\n",
            "8/8 [==============================] - 2s 246ms/step - loss: 40.0731 - mae: 40.5723 - val_loss: 40.3762 - val_mae: 40.8762\n",
            "Epoch 41/100\n",
            "8/8 [==============================] - 2s 240ms/step - loss: 39.5116 - mae: 40.0112 - val_loss: 39.7531 - val_mae: 40.2531\n",
            "Epoch 42/100\n",
            "8/8 [==============================] - 2s 244ms/step - loss: 38.8724 - mae: 39.3720 - val_loss: 39.0355 - val_mae: 39.5355\n",
            "Epoch 43/100\n",
            "8/8 [==============================] - 2s 224ms/step - loss: 38.1316 - mae: 38.6313 - val_loss: 38.2088 - val_mae: 38.7088\n",
            "Epoch 44/100\n",
            "8/8 [==============================] - 2s 222ms/step - loss: 37.2772 - mae: 37.7768 - val_loss: 37.2461 - val_mae: 37.7461\n",
            "Epoch 45/100\n",
            "8/8 [==============================] - 2s 224ms/step - loss: 36.2811 - mae: 36.7807 - val_loss: 36.1181 - val_mae: 36.6181\n",
            "Epoch 46/100\n",
            "8/8 [==============================] - 2s 225ms/step - loss: 35.1150 - mae: 35.6140 - val_loss: 34.7840 - val_mae: 35.2840\n",
            "Epoch 47/100\n",
            "8/8 [==============================] - 2s 222ms/step - loss: 33.7411 - mae: 34.2408 - val_loss: 33.1956 - val_mae: 33.6956\n",
            "Epoch 48/100\n",
            "8/8 [==============================] - 2s 217ms/step - loss: 32.1038 - mae: 32.6035 - val_loss: 31.2956 - val_mae: 31.7956\n",
            "Epoch 49/100\n",
            "8/8 [==============================] - 2s 224ms/step - loss: 30.1432 - mae: 30.6421 - val_loss: 28.9953 - val_mae: 29.4953\n",
            "Epoch 50/100\n",
            "8/8 [==============================] - 2s 218ms/step - loss: 27.8033 - mae: 28.3019 - val_loss: 26.1836 - val_mae: 26.6836\n",
            "Epoch 51/100\n",
            "8/8 [==============================] - 2s 218ms/step - loss: 25.0200 - mae: 25.5184 - val_loss: 22.7533 - val_mae: 23.2533\n",
            "Epoch 52/100\n",
            "8/8 [==============================] - 2s 223ms/step - loss: 21.7606 - mae: 22.2579 - val_loss: 18.6144 - val_mae: 19.1111\n",
            "Epoch 53/100\n",
            "8/8 [==============================] - 2s 219ms/step - loss: 18.1433 - mae: 18.6373 - val_loss: 14.0710 - val_mae: 14.5653\n",
            "Epoch 54/100\n",
            "8/8 [==============================] - 2s 231ms/step - loss: 14.9724 - mae: 15.4613 - val_loss: 10.2655 - val_mae: 10.7496\n",
            "\n",
            "MAE dari model < 10% skala data\n"
          ],
          "name": "stdout"
        }
      ]
    },
    {
      "cell_type": "code",
      "metadata": {
        "colab": {
          "base_uri": "https://localhost:8080/",
          "height": 295
        },
        "id": "KUT4btNwx88w",
        "outputId": "c76ecba9-8fd2-4ff0-e825-01dec70e4222"
      },
      "source": [
        "plt.plot(history.history['mae'])\n",
        "plt.plot(history.history['val_mae'])\n",
        "plt.title('Akurasi Model')\n",
        "plt.ylabel('Mae')\n",
        "plt.xlabel('epoch')\n",
        "plt.legend(['Train', 'Val'], loc='upper left')\n",
        "plt.show()\n"
      ],
      "execution_count": null,
      "outputs": [
        {
          "output_type": "display_data",
          "data": {
            "image/png": "[encoded data removed]",
            "text/plain": [
              "<Figure size 432x288 with 1 Axes>"
            ]
          },
          "metadata": {
            "tags": [],
            "needs_background": "light"
          }
        }
      ]
    },
    {
      "cell_type": "code",
      "metadata": {
        "colab": {
          "base_uri": "https://localhost:8080/",
          "height": 295
        },
        "id": "mDNnfhZ5DdCn",
        "outputId": "a6b1fc7a-c430-48b4-9ce1-ecaf75c77370"
      },
      "source": [
        "# Plot Loss\n",
        "plt.plot(history.history['loss'])\n",
        "plt.plot(history.history['val_loss'])\n",
        "plt.title('Loss Model')\n",
        "plt.ylabel('loss')\n",
        "plt.xlabel('epoch')\n",
        "plt.legend(['Train', 'Val'], loc='upper left')\n",
        "plt.show()"
      ],
      "execution_count": null,
      "outputs": [
        {
          "output_type": "display_data",
          "data": {
            "image/png": "[encoded data removed]",
            "text/plain": [
              "<Figure size 432x288 with 1 Axes>"
            ]
          },
          "metadata": {
            "tags": [],
            "needs_background": "light"
          }
        }
      ]
    }
  ]
}